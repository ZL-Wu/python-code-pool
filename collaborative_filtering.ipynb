{
 "cells": [
  {
   "cell_type": "markdown",
   "metadata": {},
   "source": [
    "# User-Based CF"
   ]
  },
  {
   "cell_type": "code",
   "execution_count": 1,
   "metadata": {},
   "outputs": [],
   "source": [
    "import numpy as np\n",
    "import pandas as pd\n",
    "from math import sqrt"
   ]
  },
  {
   "cell_type": "code",
   "execution_count": 9,
   "metadata": {},
   "outputs": [],
   "source": [
    "class Recommender:\n",
    "\n",
    "    # data: 数据集，这里指users_rating\n",
    "    # k: 表示得出最相近的k的近邻\n",
    "    # sim_func: 表示使用计算相似度\n",
    "    # n: 表示推荐的item的个数\n",
    "\n",
    "    def __init__(self, data, k = 3, sim_func='pearson', n=12):\n",
    "\n",
    "        # 数据初始化\n",
    "        self.k = k\n",
    "        self.n = n\n",
    "        self.sim_func = sim_func\n",
    "        if self.sim_func == 'pearson':\n",
    "            self.fn = self.pearson_sim\n",
    "        if type(data).__name__ == 'dict':\n",
    "            self.data = data\n",
    "\n",
    "    #pearson相似度\n",
    "    def pearson_sim(self, rating1, rating2):\n",
    "        sum_x = 0\n",
    "        sum_y = 0\n",
    "        sum_xy = 0\n",
    "        sum_x2 = 0\n",
    "        sum_y2 = 0\n",
    "        n = 0\n",
    "        for key in rating1:\n",
    "            if key in rating2:\n",
    "                n += 1\n",
    "                x = rating1[key]\n",
    "                y = rating2[key]\n",
    "                sum_x += x\n",
    "                sum_y += y\n",
    "                sum_xy += x * y\n",
    "                sum_x2 += pow(x, 2)\n",
    "                sum_y2 += pow(y, 2)\n",
    "        if n == 0:\n",
    "            return 0\n",
    "\n",
    "        dinominator = sqrt(n * sum_x2 - pow(sum_x, 2)) * sqrt(n * sum_y2 - pow(sum_y, 2))\n",
    "        if dinominator == 0:\n",
    "            return 0\n",
    "        else:\n",
    "            return (n * sum_xy - sum_x * sum_y) / dinominator\n",
    "\n",
    "    #对用户相似度排序\n",
    "    def user_sim_sort(self, user_id):\n",
    "        distances = []\n",
    "        for instance in self.data:\n",
    "            if instance != user_id:\n",
    "                dis = self.fn(self.data[user_id], self.data[instance])\n",
    "                distances.append((instance, dis))\n",
    "\n",
    "        distances.sort(key=lambda items: items[1], reverse=True)  # Similarity is a better name. Higher similarty means more similar between two users.\n",
    "        return distances\n",
    "\n",
    "    # recommand主体函数\n",
    "    def recommand(self, user_id):\n",
    "        # 定义一个字典，用来存储推荐的电影和分数\n",
    "        recommendations = {}\n",
    "        # 计算出user与其它所有用户的相似度，返回一个list\n",
    "        user_sim = self.user_sim_sort(user_id)\n",
    "        # 计算最近的k个近邻的总距离\n",
    "        total_dis = 0.0\n",
    "        for i in range(self.k):\n",
    "            total_dis += user_sim[i][1]\n",
    "        if total_dis == 0.0:\n",
    "            total_dis = 1.0\n",
    "        \n",
    "        # 将与user最相近的k个人中user没有看过的书推荐给user，并且这里又做了一个分数的计算排名\n",
    "        for i in range(self.k):\n",
    "            # 第i个人的id\n",
    "            neighbor_id = user_sim[i][0]\n",
    "            # 第i个人与user的相似度转换到[0, 1]之间\n",
    "            weight = user_sim[i][1] / total_dis\n",
    "            # 第i个用户看过的书和相应的打分\n",
    "            neighbor_ratings = self.data[neighbor_id]\n",
    "            user_rating = self.data[user_id]\n",
    "\n",
    "            for item_id in neighbor_ratings:\n",
    "                if item_id not in user_rating:\n",
    "                    if item_id not in recommendations:\n",
    "                        recommendations[item_id] = neighbor_ratings[item_id] * weight\n",
    "                    else:\n",
    "                        recommendations[item_id] = recommendations[item_id] + neighbor_ratings[item_id] * weight\n",
    "        recommendations = list(recommendations.items())\n",
    "\n",
    "        # 做了一个排序\n",
    "        recommendations.sort(key=lambda items: items[1], reverse=True)\n",
    "\n",
    "        return recommendations[:self.n], user_sim\n",
    "\n",
    "# if __name__ == \"__main__\":\n",
    "\n",
    "#     # 获取数据\n",
    "#     users_rating = dict()\n",
    "#     data_path = \"./ratings.csv\"\n",
    "#     with open(data_path, 'r') as file:\n",
    "#         for line in file:\n",
    "#             items = line.strip().split(',')\n",
    "#             if items[0] not in users_rating:\n",
    "#                 users_rating[items[0]] = dict()\n",
    "#             users_rating[items[0]][items[1]] = dict()\n",
    "#             users_rating[items[0]][items[1]] = float(items[2])"
   ]
  },
  {
   "cell_type": "code",
   "execution_count": 11,
   "metadata": {},
   "outputs": [],
   "source": [
    "users_rating = dict()\n",
    "data_path = \"./ratings.csv\"\n",
    "with open(data_path, 'r') as file:\n",
    "    next(file)\n",
    "    for line in file:\n",
    "        items = line.strip().split(',')\n",
    "        if items[0] not in users_rating:\n",
    "            users_rating[items[0]] = dict()\n",
    "        users_rating[items[0]][items[1]] = float(items[2])"
   ]
  },
  {
   "cell_type": "code",
   "execution_count": 12,
   "metadata": {
    "scrolled": true
   },
   "outputs": [
    {
     "name": "stdout",
     "output_type": "stream",
     "text": [
      "138493\n"
     ]
    }
   ],
   "source": [
    "print(len(users_rating))"
   ]
  },
  {
   "cell_type": "code",
   "execution_count": 21,
   "metadata": {
    "scrolled": false
   },
   "outputs": [
    {
     "name": "stdout",
     "output_type": "stream",
     "text": [
      "\n",
      "movie id list: [('805', 3.0), ('34', 2.333333333333333), ('39', 1.6666666666666665), ('1213', 1.6666666666666665), ('1885', 1.6666666666666665), ('3751', 1.6666666666666665), ('36', 1.6666666666666665), ('62', 1.6666666666666665), ('86', 1.6666666666666665), ('279', 1.3333333333333333), ('314', 1.3333333333333333), ('356', 1.3333333333333333)]\n",
      "\n",
      "near list: [('179', 1.0000000000000002), ('1132', 1.0000000000000002), ('1329', 1.0000000000000002), ('1473', 1.0000000000000002), ('1607', 1.0000000000000002), ('1660', 1.0000000000000002), ('2288', 1.0000000000000002), ('2913', 1.0000000000000002), ('2944', 1.0000000000000002), ('3298', 1.0000000000000002), ('4981', 1.0000000000000002), ('5184', 1.0000000000000002), ('6310', 1.0000000000000002), ('7711', 1.0000000000000002), ('7739', 1.0000000000000002)]\n",
      "\n",
      "138492\n"
     ]
    }
   ],
   "source": [
    "user_id = '1'\n",
    "recomm = Recommender(users_rating)\n",
    "recommendations, user_sim = recomm.recommand(user_id)\n",
    "print(\"\\nmovie id list:\", recommendations)\n",
    "print(\"\\nnear list:\", user_sim[:15])\n",
    "print()\n",
    "print(len(user_sim))"
   ]
  },
  {
   "cell_type": "code",
   "execution_count": 22,
   "metadata": {},
   "outputs": [],
   "source": [
    "# users_rating['138493']"
   ]
  },
  {
   "cell_type": "markdown",
   "metadata": {},
   "source": [
    "Dictionary users_rating looks like:\n",
    "```\n",
    "{'1': {'2': 3.5, '29': 3.5, '32': 3.5, '47': 3.5, ...},\n",
    " '2': {'3': 4.0, '62': 5.0, '70': 5.0, '110': 4.0, ...},\n",
    " '3': {'1': 4.0, '24': 3.0, '32': 4.0, '50': 5.0, ...},\n",
    " ...\n",
    " '138493': {'1': 3.5, '2': 4.0, '18': 4.5, '19': 4.0, ...}}\n",
    " ```\n",
    "\n",
    "1. Define k and n (Initialize k=3, n=12), similarity func is \"Pearson similarity\".(皮尔逊相关系数/标准化协方差，[-1,1], 值越大 代表两变量越相似)\n",
    "2. Choose a certain user with id, such as '1', calculate 138492 sets of similarty between user '1' and other 138492 users.\n",
    "    - Call the function **user_sim_sort()** and function **pearson_sim()**.\n",
    "    - These functions return a sorted list of similarity from highest to lowest between '1' and other 138492 users.\n",
    "    \n",
    "3. The func recommand() is the main function of class Recommender.\n",
    "    - It picks out the **top k** users who are most similar to the current user '1' based on the sorted list returned from **user_sim_sort()** func. <u>Default k is 3</u>\n",
    "    - Read the score list of this k most similar users of user '1'. \n",
    "    - Find out those items that are not in '1' user's score list but in those other k similar users. Because these new items for user '1' is what we need to recommend to '1'.\n",
    "    - Sort and Select top n best items to recommend to user '1'. <u>Default n is 12</u>"
   ]
  },
  {
   "cell_type": "markdown",
   "metadata": {},
   "source": [
    "# Item-Based CF"
   ]
  },
  {
   "cell_type": "code",
   "execution_count": 1,
   "metadata": {},
   "outputs": [],
   "source": [
    "from math import sqrt"
   ]
  },
  {
   "cell_type": "code",
   "execution_count": 2,
   "metadata": {},
   "outputs": [],
   "source": [
    "class ItemBasedCF:\n",
    "    def __init__(self, train_file):\n",
    "        self.train_file = train_file\n",
    "        self.read_data()\n",
    "\n",
    "    # 读取文件，并生成用户-物品的评分表和测试集\n",
    "    def read_data(self):\n",
    "        self.train = dict()\n",
    "        line_num = 0\n",
    "        for line in open(self.train_file):\n",
    "            if line_num == 0:\n",
    "                line_num+=1\n",
    "                continue\n",
    "            user_id, item_id, score, _ = line.strip().split(',')\n",
    "            self.train.setdefault(user_id, {})\n",
    "            self.train[user_id][item_id] = int(float(score))\n",
    "\n",
    "\n",
    "    # 建立物品-物品的共现矩阵\n",
    "    def item_sim(self):\n",
    "        C = dict()  #物品-物品的共现矩阵\n",
    "        N = dict()  #物品被多少个不同用户购买\n",
    "        for user, items in self.train.items():\n",
    "            for i in items.keys():\n",
    "                N.setdefault(i, 0)\n",
    "                N[i] += 1\n",
    "                C.setdefault(i, {})\n",
    "                for j in items.keys():\n",
    "                    if i == j :\n",
    "                        continue\n",
    "                    if j not in C[i].keys():\n",
    "                        C[i].setdefault(j, 0)\n",
    "                    C[i][j] += 1\n",
    "\n",
    "        #计算相似度矩阵\n",
    "        self.W = dict()\n",
    "        for i,related_items in C.items():\n",
    "            self.W.setdefault(i,{})\n",
    "            for j,cij in related_items.items():\n",
    "                # 余弦相似度\n",
    "                self.W[i][j] = cij / (sqrt(N[i] * N[j]))\n",
    "        return self.W\n",
    "\n",
    "   #给用户user推荐，前K个相关用户\n",
    "    def recommend(self,user,K=3,N=10):\n",
    "        rank = dict()\n",
    "        action_item = self.train[user]     #用户user产生过行为的item和评分\n",
    "        for item,score in action_item.items():\n",
    "            for j,wj in sorted(self.W[item].items(),key=lambda x:x[1],reverse=True)[0:K]:\n",
    "                if j in action_item.keys():\n",
    "                    continue\n",
    "                if j not in rank.keys():\n",
    "                    rank.setdefault(j,0)\n",
    "                rank[j] += score * wj\n",
    "        return dict(sorted(rank.items(),key=lambda x:x[1],reverse=True)[0:N])\n",
    "\n",
    "# if __name__ == \"__main__\":\n",
    "\n",
    "#     CF = ItemBasedCF('./ratings.csv')\n",
    "#     CF.item_sim()\n",
    "#     recomm_dic = CF.recommend('1')\n",
    "\n",
    "#     for k,v in recomm_dic.iteritems():\n",
    "#         print(k,\"\\t\",v)"
   ]
  },
  {
   "cell_type": "code",
   "execution_count": 1,
   "metadata": {},
   "outputs": [],
   "source": [
    "# Read Data\n",
    "train = dict()\n",
    "data_path = \"./ratings.csv\"\n",
    "line_num = 0\n",
    "for line in open(data_path):\n",
    "    if line_num == 0: # title\n",
    "        line_num+=1\n",
    "        continue\n",
    "    user_id, item_id, score, _ = line.strip().split(',')\n",
    "    train.setdefault(user_id, {})\n",
    "    train[user_id][item_id] = float(score)"
   ]
  }
 ],
 "metadata": {
  "kernelspec": {
   "display_name": "Python 3",
   "language": "python",
   "name": "python3"
  },
  "language_info": {
   "codemirror_mode": {
    "name": "ipython",
    "version": 3
   },
   "file_extension": ".py",
   "mimetype": "text/x-python",
   "name": "python",
   "nbconvert_exporter": "python",
   "pygments_lexer": "ipython3",
   "version": "3.7.3"
  }
 },
 "nbformat": 4,
 "nbformat_minor": 4
}
