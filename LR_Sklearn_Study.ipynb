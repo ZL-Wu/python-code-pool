{
 "cells": [
  {
   "cell_type": "code",
   "execution_count": 1,
   "metadata": {},
   "outputs": [
    {
     "data": {
      "text/html": [
       "<div>\n",
       "<style scoped>\n",
       "    .dataframe tbody tr th:only-of-type {\n",
       "        vertical-align: middle;\n",
       "    }\n",
       "\n",
       "    .dataframe tbody tr th {\n",
       "        vertical-align: top;\n",
       "    }\n",
       "\n",
       "    .dataframe thead th {\n",
       "        text-align: right;\n",
       "    }\n",
       "</style>\n",
       "<table border=\"1\" class=\"dataframe\">\n",
       "  <thead>\n",
       "    <tr style=\"text-align: right;\">\n",
       "      <th></th>\n",
       "      <th>question</th>\n",
       "      <th>topic</th>\n",
       "    </tr>\n",
       "  </thead>\n",
       "  <tbody>\n",
       "    <tr>\n",
       "      <th>0</th>\n",
       "      <td>Hi! If I sign up for your email list, can I se...</td>\n",
       "      <td>Sales/Promotions</td>\n",
       "    </tr>\n",
       "    <tr>\n",
       "      <th>1</th>\n",
       "      <td>I'm going to be out of the country for about a...</td>\n",
       "      <td>Shipping</td>\n",
       "    </tr>\n",
       "    <tr>\n",
       "      <th>2</th>\n",
       "      <td>I was wondering if you'd be able to overnight ...</td>\n",
       "      <td>Shipping</td>\n",
       "    </tr>\n",
       "    <tr>\n",
       "      <th>3</th>\n",
       "      <td>The Swingline electronic stapler (472555) look...</td>\n",
       "      <td>Shipping</td>\n",
       "    </tr>\n",
       "    <tr>\n",
       "      <th>4</th>\n",
       "      <td>I think this cosmetic bag would work great for...</td>\n",
       "      <td>Shipping</td>\n",
       "    </tr>\n",
       "  </tbody>\n",
       "</table>\n",
       "</div>"
      ],
      "text/plain": [
       "                                            question             topic\n",
       "0  Hi! If I sign up for your email list, can I se...  Sales/Promotions\n",
       "1  I'm going to be out of the country for about a...          Shipping\n",
       "2  I was wondering if you'd be able to overnight ...          Shipping\n",
       "3  The Swingline electronic stapler (472555) look...          Shipping\n",
       "4  I think this cosmetic bag would work great for...          Shipping"
      ]
     },
     "execution_count": 1,
     "metadata": {},
     "output_type": "execute_result"
    }
   ],
   "source": [
    "import pandas as pd\n",
    "\n",
    "df = pd.read_csv(\"Customer_Service_Questions_Multiclass.csv\")\n",
    "df.head()"
   ]
  },
  {
   "cell_type": "code",
   "execution_count": 2,
   "metadata": {},
   "outputs": [],
   "source": [
    "# Clean corpus\n",
    "# import time\n",
    "from nltk.tokenize import regexp_tokenize\n",
    "from nltk.corpus import stopwords\n",
    "from nltk.stem import WordNetLemmatizer\n",
    "\n",
    "lemmatizer = WordNetLemmatizer()\n",
    "clean_text = []\n",
    "# start_time = time.time()\n",
    "for t in df.question:\n",
    "    words = regexp_tokenize(t.lower(), r'[A-Za-z]+')\n",
    "    words = [w for w in words if len(w)>1 and w not in stopwords.words('english')]\n",
    "    words = [lemmatizer.lemmatize(w) for w in words]\n",
    "    clean_text.append(' '.join(words))\n",
    "# print('Elapsed clock time: ', time.time()-start_time, ' s')\n",
    "\n",
    "df['question'] = clean_text"
   ]
  },
  {
   "cell_type": "markdown",
   "metadata": {},
   "source": [
    "> Check Duplicates\n",
    "```python\n",
    "print(len(df[df.duplicated()==True]))\n",
    "934\n",
    "```\n",
    "> Check Null Values\n",
    "```python\n",
    "'''Column with Null value'''\n",
    "print(df.isnull().any())\n",
    "question    False\n",
    "topic       False\n",
    "dtype: bool\n",
    "'''Row with Nill value'''\n",
    "print(len(df[df.isnull().values==True]))\n",
    "0\n",
    "```\n",
    "> Dataset doesn't have Null values, but has duplicate records."
   ]
  },
  {
   "cell_type": "code",
   "execution_count": 3,
   "metadata": {},
   "outputs": [
    {
     "name": "stdout",
     "output_type": "stream",
     "text": [
      "4066\n"
     ]
    },
    {
     "data": {
      "text/html": [
       "<div>\n",
       "<style scoped>\n",
       "    .dataframe tbody tr th:only-of-type {\n",
       "        vertical-align: middle;\n",
       "    }\n",
       "\n",
       "    .dataframe tbody tr th {\n",
       "        vertical-align: top;\n",
       "    }\n",
       "\n",
       "    .dataframe thead th {\n",
       "        text-align: right;\n",
       "    }\n",
       "</style>\n",
       "<table border=\"1\" class=\"dataframe\">\n",
       "  <thead>\n",
       "    <tr style=\"text-align: right;\">\n",
       "      <th></th>\n",
       "      <th>question</th>\n",
       "      <th>topic</th>\n",
       "    </tr>\n",
       "  </thead>\n",
       "  <tbody>\n",
       "    <tr>\n",
       "      <th>0</th>\n",
       "      <td>hi sign email list select get email exclusivel...</td>\n",
       "      <td>Sales/Promotions</td>\n",
       "    </tr>\n",
       "    <tr>\n",
       "      <th>1</th>\n",
       "      <td>going country week travel going getting animal...</td>\n",
       "      <td>Shipping</td>\n",
       "    </tr>\n",
       "    <tr>\n",
       "      <th>2</th>\n",
       "      <td>wondering able overnight jacket item trenton nj</td>\n",
       "      <td>Shipping</td>\n",
       "    </tr>\n",
       "    <tr>\n",
       "      <th>3</th>\n",
       "      <td>swingline electronic stapler look really great...</td>\n",
       "      <td>Shipping</td>\n",
       "    </tr>\n",
       "    <tr>\n",
       "      <th>4</th>\n",
       "      <td>think cosmetic bag would work great however kn...</td>\n",
       "      <td>Shipping</td>\n",
       "    </tr>\n",
       "  </tbody>\n",
       "</table>\n",
       "</div>"
      ],
      "text/plain": [
       "                                            question             topic\n",
       "0  hi sign email list select get email exclusivel...  Sales/Promotions\n",
       "1  going country week travel going getting animal...          Shipping\n",
       "2    wondering able overnight jacket item trenton nj          Shipping\n",
       "3  swingline electronic stapler look really great...          Shipping\n",
       "4  think cosmetic bag would work great however kn...          Shipping"
      ]
     },
     "execution_count": 3,
     "metadata": {},
     "output_type": "execute_result"
    }
   ],
   "source": [
    "# Drop duplicate records\n",
    "df = df.drop_duplicates()\n",
    "print(len(df))\n",
    "df.head()"
   ]
  },
  {
   "cell_type": "code",
   "execution_count": 4,
   "metadata": {},
   "outputs": [],
   "source": [
    "# Split data into train and validation and encode label\n",
    "from sklearn.model_selection import train_test_split\n",
    "from sklearn.preprocessing import LabelEncoder\n",
    "\n",
    "train_x, valid_x, train_y, valid_y = \\\n",
    "    train_test_split(df['question'], df['topic'], \\\n",
    "    test_size=0.2, random_state=42, stratify=df['topic'])  # stratified sample\n",
    "\n",
    "encoder = LabelEncoder()\n",
    "train_y = encoder.fit_transform(train_y)\n",
    "valid_y = encoder.fit_transform(valid_y)"
   ]
  },
  {
   "cell_type": "markdown",
   "metadata": {},
   "source": [
    "> View the effect of stratified sampling：\n",
    "```python\n",
    "'''Original Data'''\n",
    "df['topic'].value_counts()\n",
    "'''output'''\n",
    "Product Specifications    817\n",
    "Product Comparison        797\n",
    "Shipping                  740\n",
    "Returns & Refunds         625\n",
    "Product Availability      408\n",
    "Omnichannel               381\n",
    "Sales/Promotions          298\n",
    "Name: topic, dtype: int64\n",
    "```\n",
    "```python\n",
    "'''Stratified sampling'''\n",
    "print(pd.Series(train_y).value_counts())\n",
    "print(encoder.classes_)\n",
    "'''output'''\n",
    "3    653\n",
    "2    638\n",
    "6    592\n",
    "4    500\n",
    "1    326\n",
    "0    305\n",
    "5    238\n",
    "dtype: int64\n",
    "['Omnichannel' 'Product Availability' 'Product Comparison'\n",
    " 'Product Specifications' 'Returns & Refunds' 'Sales/Promotions'\n",
    " 'Shipping']\n",
    "```"
   ]
  },
  {
   "cell_type": "code",
   "execution_count": 5,
   "metadata": {},
   "outputs": [],
   "source": [
    "# Text vectorization: Create count, TF-IDF, and n-gram vectorizers\n",
    "from sklearn.feature_extraction.text import CountVectorizer, TfidfVectorizer\n",
    "\n",
    "# Word level tf-idf\n",
    "tfidf_vect = TfidfVectorizer(analyzer='word', token_pattern=r'\\w{1,}', \\\n",
    "    max_features=1000)\n",
    "tfidf_vect.fit(df['question'])\n",
    "xtrain_tfidf = tfidf_vect.transform(train_x)\n",
    "xvalid_tfidf = tfidf_vect.transform(valid_x)"
   ]
  },
  {
   "cell_type": "markdown",
   "metadata": {},
   "source": [
    "> Read xtrain_tfidf\n",
    "```python\n",
    "print(df.shape)\n",
    "(4066, 2)\n",
    "print(xtrain_tfidf.shape) # 80%\n",
    "(3252, 1000)\n",
    "print(xvalid_tfidf.shape) # 20%\n",
    "(814, 1000)\n",
    "print(len(tfidf_vect.vocabulary_))\n",
    "1000\n",
    "print(tfidf_vect.vocabulary_)\n",
    "{'hi': 383,\n",
    " 'sign': 793,\n",
    " 'email': 271,\n",
    " 'list': 476,\n",
    " 'select': 765,\n",
    " 'get': 342,\n",
    " ....\n",
    " 'estimate': 276,\n",
    " 'wisconsin': 983,\n",
    " 'sarasota': 750,\n",
    " 'along': 19,\n",
    " 'feel': 302,\n",
    " 'bring': 107}\n",
    "```"
   ]
  },
  {
   "cell_type": "markdown",
   "metadata": {},
   "source": [
    "# Model Training -- Logistic Regression"
   ]
  },
  {
   "cell_type": "code",
   "execution_count": 6,
   "metadata": {},
   "outputs": [],
   "source": [
    "# 3 types of Logistic Regression\n",
    "from sklearn.linear_model import LogisticRegression\n",
    "from sklearn.linear_model import LogisticRegressionCV\n",
    "from sklearn.linear_model import logistic_regression_path\n",
    "from sklearn.metrics import confusion_matrix, classification_report\n",
    "\n",
    "def model_evaluate(classifier,tx=xtrain_tfidf,ty=train_y,vx=xvalid_tfidf,vy=valid_y,name=encoder.classes_):\n",
    "    # Evaluate the classifier\n",
    "    classifier.fit(tx, ty)\n",
    "    ty_predict = classifier.predict(tx)\n",
    "    vy_predict = classifier.predict(vx)\n",
    "    print(\"********** Train Set **********\")\n",
    "    print(classification_report(train_y, ty_predict, target_names=name))\n",
    "    print(\"********** Valid Set **********\")\n",
    "    print(classification_report(valid_y, vy_predict, target_names=name))"
   ]
  },
  {
   "cell_type": "markdown",
   "metadata": {},
   "source": [
    "## solver\n",
    "Algorithm to use in the optimization problem.\n",
    "\n",
    "- For small datasets, ‘liblinear’ is a good choice, whereas ‘sag’ and ‘saga’ are faster for large ones.\n",
    "- For multiclass problems, only ‘newton-cg’, ‘sag’, ‘saga’ and ‘lbfgs’ handle multinomial loss; ‘liblinear’ is limited to one-versus-rest schemes.\n",
    "- ‘newton-cg’, ‘lbfgs’, ‘sag’ and ‘saga’ handle L2 or no penalty\n",
    "- ‘liblinear’ and ‘saga’ also handle L1 penalty\n",
    "- ‘saga’ also supports ‘elasticnet’ penalty\n",
    "- ‘liblinear’ does not support setting penalty='none'\n",
    "- Note that ‘sag’ and ‘saga’ fast convergence is only guaranteed on features with approximately the same scale. You can preprocess the data with a scaler from sklearn.preprocessing."
   ]
  },
  {
   "cell_type": "code",
   "execution_count": 7,
   "metadata": {
    "collapsed": true
   },
   "outputs": [
    {
     "name": "stdout",
     "output_type": "stream",
     "text": [
      "********** Train Set **********\n",
      "                        precision    recall  f1-score   support\n",
      "\n",
      "           Omnichannel       1.00      0.97      0.98       305\n",
      "  Product Availability       0.94      0.94      0.94       326\n",
      "    Product Comparison       0.96      0.96      0.96       638\n",
      "Product Specifications       0.94      0.96      0.95       653\n",
      "     Returns & Refunds       1.00      1.00      1.00       500\n",
      "      Sales/Promotions       0.99      0.97      0.98       238\n",
      "              Shipping       0.99      1.00      0.99       592\n",
      "\n",
      "              accuracy                           0.97      3252\n",
      "             macro avg       0.97      0.97      0.97      3252\n",
      "          weighted avg       0.97      0.97      0.97      3252\n",
      "\n",
      "********** Valid Set **********\n",
      "                        precision    recall  f1-score   support\n",
      "\n",
      "           Omnichannel       1.00      0.97      0.99        76\n",
      "  Product Availability       0.87      0.84      0.86        82\n",
      "    Product Comparison       0.91      0.87      0.89       159\n",
      "Product Specifications       0.86      0.93      0.89       164\n",
      "     Returns & Refunds       0.98      1.00      0.99       125\n",
      "      Sales/Promotions       1.00      0.93      0.97        60\n",
      "              Shipping       0.99      0.99      0.99       148\n",
      "\n",
      "              accuracy                           0.94       814\n",
      "             macro avg       0.95      0.93      0.94       814\n",
      "          weighted avg       0.94      0.94      0.94       814\n",
      "\n"
     ]
    }
   ],
   "source": [
    "# Default case: multi_class='auto',solver='lbfgs',penalty='l2',max_iter=100\n",
    "# solver='lbfgs': A kind of quasi-Newton method, \n",
    "# iteratively optimizes the loss function by using \n",
    "# the second derivative matrix of the loss function, the Hessian matrix.\n",
    "LR1 = LogisticRegression(multi_class='auto',solver='lbfgs')\n",
    "model_evaluate(LR1)"
   ]
  },
  {
   "cell_type": "code",
   "execution_count": 8,
   "metadata": {
    "collapsed": true
   },
   "outputs": [
    {
     "name": "stdout",
     "output_type": "stream",
     "text": [
      "********** Train Set **********\n",
      "                        precision    recall  f1-score   support\n",
      "\n",
      "           Omnichannel       1.00      0.97      0.98       305\n",
      "  Product Availability       0.93      0.91      0.92       326\n",
      "    Product Comparison       0.95      0.96      0.95       638\n",
      "Product Specifications       0.93      0.94      0.94       653\n",
      "     Returns & Refunds       1.00      1.00      1.00       500\n",
      "      Sales/Promotions       0.99      0.97      0.98       238\n",
      "              Shipping       0.99      1.00      0.99       592\n",
      "\n",
      "              accuracy                           0.97      3252\n",
      "             macro avg       0.97      0.96      0.97      3252\n",
      "          weighted avg       0.97      0.97      0.97      3252\n",
      "\n",
      "********** Valid Set **********\n",
      "                        precision    recall  f1-score   support\n",
      "\n",
      "           Omnichannel       1.00      0.96      0.98        76\n",
      "  Product Availability       0.87      0.84      0.86        82\n",
      "    Product Comparison       0.90      0.86      0.88       159\n",
      "Product Specifications       0.85      0.92      0.88       164\n",
      "     Returns & Refunds       0.98      1.00      0.99       125\n",
      "      Sales/Promotions       1.00      0.93      0.97        60\n",
      "              Shipping       0.99      0.99      0.99       148\n",
      "\n",
      "              accuracy                           0.93       814\n",
      "             macro avg       0.94      0.93      0.94       814\n",
      "          weighted avg       0.93      0.93      0.93       814\n",
      "\n"
     ]
    }
   ],
   "source": [
    "# solver='liblinear': Coordinate Descent\n",
    "LR2 = LogisticRegression(multi_class='auto',solver='liblinear')\n",
    "model_evaluate(LR2)"
   ]
  },
  {
   "cell_type": "code",
   "execution_count": 9,
   "metadata": {
    "collapsed": true
   },
   "outputs": [
    {
     "name": "stdout",
     "output_type": "stream",
     "text": [
      "********** Train Set **********\n",
      "                        precision    recall  f1-score   support\n",
      "\n",
      "           Omnichannel       1.00      0.97      0.98       305\n",
      "  Product Availability       0.94      0.94      0.94       326\n",
      "    Product Comparison       0.96      0.96      0.96       638\n",
      "Product Specifications       0.94      0.96      0.95       653\n",
      "     Returns & Refunds       1.00      1.00      1.00       500\n",
      "      Sales/Promotions       0.99      0.97      0.98       238\n",
      "              Shipping       0.99      1.00      0.99       592\n",
      "\n",
      "              accuracy                           0.97      3252\n",
      "             macro avg       0.97      0.97      0.97      3252\n",
      "          weighted avg       0.97      0.97      0.97      3252\n",
      "\n",
      "********** Valid Set **********\n",
      "                        precision    recall  f1-score   support\n",
      "\n",
      "           Omnichannel       1.00      0.97      0.99        76\n",
      "  Product Availability       0.87      0.84      0.86        82\n",
      "    Product Comparison       0.91      0.87      0.89       159\n",
      "Product Specifications       0.86      0.93      0.89       164\n",
      "     Returns & Refunds       0.98      1.00      0.99       125\n",
      "      Sales/Promotions       1.00      0.93      0.97        60\n",
      "              Shipping       0.99      0.99      0.99       148\n",
      "\n",
      "              accuracy                           0.94       814\n",
      "             macro avg       0.95      0.93      0.94       814\n",
      "          weighted avg       0.94      0.94      0.94       814\n",
      "\n"
     ]
    }
   ],
   "source": [
    "# solver='newton-cg': It is also a kind of Newtonian family.\n",
    "LR3 = LogisticRegression(multi_class='auto',solver='newton-cg')\n",
    "model_evaluate(LR3)"
   ]
  },
  {
   "cell_type": "code",
   "execution_count": 10,
   "metadata": {
    "collapsed": true
   },
   "outputs": [
    {
     "name": "stdout",
     "output_type": "stream",
     "text": [
      "********** Train Set **********\n",
      "                        precision    recall  f1-score   support\n",
      "\n",
      "           Omnichannel       1.00      0.97      0.98       305\n",
      "  Product Availability       0.94      0.94      0.94       326\n",
      "    Product Comparison       0.96      0.96      0.96       638\n",
      "Product Specifications       0.94      0.96      0.95       653\n",
      "     Returns & Refunds       1.00      1.00      1.00       500\n",
      "      Sales/Promotions       0.99      0.97      0.98       238\n",
      "              Shipping       0.99      1.00      0.99       592\n",
      "\n",
      "              accuracy                           0.97      3252\n",
      "             macro avg       0.97      0.97      0.97      3252\n",
      "          weighted avg       0.97      0.97      0.97      3252\n",
      "\n",
      "********** Valid Set **********\n",
      "                        precision    recall  f1-score   support\n",
      "\n",
      "           Omnichannel       1.00      0.97      0.99        76\n",
      "  Product Availability       0.87      0.84      0.86        82\n",
      "    Product Comparison       0.91      0.87      0.89       159\n",
      "Product Specifications       0.86      0.93      0.89       164\n",
      "     Returns & Refunds       0.98      1.00      0.99       125\n",
      "      Sales/Promotions       1.00      0.93      0.97        60\n",
      "              Shipping       0.99      0.99      0.99       148\n",
      "\n",
      "              accuracy                           0.94       814\n",
      "             macro avg       0.95      0.93      0.94       814\n",
      "          weighted avg       0.94      0.94      0.94       814\n",
      "\n"
     ]
    }
   ],
   "source": [
    "# solver='sag': Gradient Descent\n",
    "LR4 = LogisticRegression(multi_class='auto',solver='newton-cg')\n",
    "model_evaluate(LR4)"
   ]
  },
  {
   "cell_type": "markdown",
   "metadata": {},
   "source": [
    "> Solver:\n",
    "> - **'lbfgs'** (default): Quasi-Newton method. Second derivative matrix of the loss function, the Hessian matrix.\n",
    "> - **'newton-cg'**: Also a kind of Newtonian family. Second derivative matrix of the loss function, the Hessian matrix.\n",
    "> - **'liblinear'**: Coordinate Descent\n",
    "> - **'sag'**: Gradient Descent"
   ]
  },
  {
   "cell_type": "markdown",
   "metadata": {},
   "source": [
    "## penalty"
   ]
  },
  {
   "cell_type": "code",
   "execution_count": 11,
   "metadata": {
    "collapsed": true
   },
   "outputs": [
    {
     "name": "stdout",
     "output_type": "stream",
     "text": [
      "********** Train Set **********\n",
      "                        precision    recall  f1-score   support\n",
      "\n",
      "           Omnichannel       0.98      0.96      0.97       305\n",
      "  Product Availability       0.88      0.89      0.88       326\n",
      "    Product Comparison       0.96      0.92      0.94       638\n",
      "Product Specifications       0.89      0.93      0.91       653\n",
      "     Returns & Refunds       0.99      1.00      0.99       500\n",
      "      Sales/Promotions       0.99      0.95      0.97       238\n",
      "              Shipping       0.98      0.99      0.99       592\n",
      "\n",
      "              accuracy                           0.95      3252\n",
      "             macro avg       0.95      0.95      0.95      3252\n",
      "          weighted avg       0.95      0.95      0.95      3252\n",
      "\n",
      "********** Valid Set **********\n",
      "                        precision    recall  f1-score   support\n",
      "\n",
      "           Omnichannel       1.00      0.96      0.98        76\n",
      "  Product Availability       0.81      0.83      0.82        82\n",
      "    Product Comparison       0.93      0.86      0.89       159\n",
      "Product Specifications       0.85      0.92      0.89       164\n",
      "     Returns & Refunds       0.98      0.99      0.98       125\n",
      "      Sales/Promotions       1.00      0.95      0.97        60\n",
      "              Shipping       0.98      0.98      0.98       148\n",
      "\n",
      "              accuracy                           0.93       814\n",
      "             macro avg       0.93      0.93      0.93       814\n",
      "          weighted avg       0.93      0.93      0.93       814\n",
      "\n"
     ]
    }
   ],
   "source": [
    "# penalty='l1' ==> solver can only be 'liblinear' (coordinate descent)\n",
    "# Since the l1 regularization's loss function is not derivable.\n",
    "# l1 has better effect in reducing overfitting than l2.\n",
    "# if L2 regularization(default) is still overfitting, that is, \n",
    "# when the prediction effect is poor,\n",
    "# consider L1 regularization.\n",
    "LR5 = LogisticRegression(multi_class='auto',solver='liblinear',penalty='l1')\n",
    "model_evaluate(LR5)"
   ]
  },
  {
   "cell_type": "markdown",
   "metadata": {},
   "source": [
    "> Penalty:\n",
    "> - l1: Loss function is not derivable.\n",
    "> - l2: Loss function is derivable."
   ]
  },
  {
   "cell_type": "markdown",
   "metadata": {},
   "source": [
    "## multi_class"
   ]
  },
  {
   "cell_type": "markdown",
   "metadata": {},
   "source": [
    "- If the option chosen is ‘ovr’, then a binary problem is fit for each label. For ‘multinomial’ the loss minimised is the multinomial loss fit across the entire probability distribution, even when the data is binary. ‘multinomial’ is unavailable when solver=’liblinear’.\n",
    "- ‘auto’ selects ‘ovr’ if the data is binary, or if solver=’liblinear’, and otherwise selects ‘multinomial’."
   ]
  },
  {
   "cell_type": "code",
   "execution_count": 12,
   "metadata": {
    "collapsed": true
   },
   "outputs": [
    {
     "name": "stdout",
     "output_type": "stream",
     "text": [
      "********** Train Set **********\n",
      "                        precision    recall  f1-score   support\n",
      "\n",
      "           Omnichannel       1.00      0.97      0.98       305\n",
      "  Product Availability       0.94      0.94      0.94       326\n",
      "    Product Comparison       0.96      0.96      0.96       638\n",
      "Product Specifications       0.94      0.96      0.95       653\n",
      "     Returns & Refunds       1.00      1.00      1.00       500\n",
      "      Sales/Promotions       0.99      0.97      0.98       238\n",
      "              Shipping       0.99      1.00      0.99       592\n",
      "\n",
      "              accuracy                           0.97      3252\n",
      "             macro avg       0.97      0.97      0.97      3252\n",
      "          weighted avg       0.97      0.97      0.97      3252\n",
      "\n",
      "********** Valid Set **********\n",
      "                        precision    recall  f1-score   support\n",
      "\n",
      "           Omnichannel       1.00      0.97      0.99        76\n",
      "  Product Availability       0.87      0.84      0.86        82\n",
      "    Product Comparison       0.91      0.87      0.89       159\n",
      "Product Specifications       0.86      0.93      0.89       164\n",
      "     Returns & Refunds       0.98      1.00      0.99       125\n",
      "      Sales/Promotions       1.00      0.93      0.97        60\n",
      "              Shipping       0.99      0.99      0.99       148\n",
      "\n",
      "              accuracy                           0.94       814\n",
      "             macro avg       0.95      0.93      0.94       814\n",
      "          weighted avg       0.94      0.94      0.94       814\n",
      "\n"
     ]
    }
   ],
   "source": [
    "LR6 = LogisticRegression(multi_class='multinomial',solver='sag',penalty='l2')\n",
    "model_evaluate(LR6)"
   ]
  },
  {
   "cell_type": "markdown",
   "metadata": {},
   "source": [
    "> multi_class:\n",
    "> - 'ovr' ==> solver = liblinear，newton-cg, lbfgs or sag\n",
    "> - 'multinomial' ==> solver = newton-cg, lbfgs or sag\n",
    "\n",
    "> penalty='l1' ==> solver='liblinear' ==> multi_class='ovr'"
   ]
  },
  {
   "cell_type": "code",
   "execution_count": 13,
   "metadata": {},
   "outputs": [
    {
     "data": {
      "text/plain": [
       "LogisticRegression(C=1.0, class_weight=None, dual=False, fit_intercept=True,\n",
       "                   intercept_scaling=1, l1_ratio=None, max_iter=100,\n",
       "                   multi_class='multinomial', n_jobs=None, penalty='l2',\n",
       "                   random_state=None, solver='sag', tol=0.0001, verbose=0,\n",
       "                   warm_start=False)"
      ]
     },
     "execution_count": 13,
     "metadata": {},
     "output_type": "execute_result"
    }
   ],
   "source": [
    "LR6"
   ]
  },
  {
   "cell_type": "markdown",
   "metadata": {},
   "source": [
    "## class_weight"
   ]
  },
  {
   "cell_type": "markdown",
   "metadata": {},
   "source": [
    "Weights associated with classes in the form {class_label: weight}. If not given, all classes are supposed to have weight one.\n",
    "\n",
    "The “balanced” mode uses the values of y to automatically adjust weights inversely proportional to class frequencies in the input data as n_samples / (n_classes * np.bincount(y)).\n",
    "\n",
    "Note that these weights will be multiplied with sample_weight (passed through the fit method) if sample_weight is specified."
   ]
  },
  {
   "cell_type": "code",
   "execution_count": 14,
   "metadata": {
    "collapsed": true
   },
   "outputs": [
    {
     "name": "stdout",
     "output_type": "stream",
     "text": [
      "********** Train Set **********\n",
      "                        precision    recall  f1-score   support\n",
      "\n",
      "           Omnichannel       1.00      0.99      0.99       305\n",
      "  Product Availability       0.88      0.97      0.93       326\n",
      "    Product Comparison       0.97      0.94      0.95       638\n",
      "Product Specifications       0.95      0.93      0.94       653\n",
      "     Returns & Refunds       1.00      1.00      1.00       500\n",
      "      Sales/Promotions       0.98      0.99      0.99       238\n",
      "              Shipping       1.00      0.99      1.00       592\n",
      "\n",
      "              accuracy                           0.97      3252\n",
      "             macro avg       0.97      0.97      0.97      3252\n",
      "          weighted avg       0.97      0.97      0.97      3252\n",
      "\n",
      "********** Valid Set **********\n",
      "                        precision    recall  f1-score   support\n",
      "\n",
      "           Omnichannel       1.00      0.99      0.99        76\n",
      "  Product Availability       0.82      0.91      0.86        82\n",
      "    Product Comparison       0.91      0.86      0.88       159\n",
      "Product Specifications       0.88      0.89      0.88       164\n",
      "     Returns & Refunds       0.99      1.00      1.00       125\n",
      "      Sales/Promotions       1.00      0.97      0.98        60\n",
      "              Shipping       0.99      0.99      0.99       148\n",
      "\n",
      "              accuracy                           0.94       814\n",
      "             macro avg       0.94      0.94      0.94       814\n",
      "          weighted avg       0.94      0.94      0.94       814\n",
      "\n"
     ]
    }
   ],
   "source": [
    "LR7 = LogisticRegression(class_weight='balanced',multi_class='auto',solver='lbfgs')\n",
    "model_evaluate(LR7)"
   ]
  },
  {
   "cell_type": "code",
   "execution_count": null,
   "metadata": {},
   "outputs": [],
   "source": []
  },
  {
   "cell_type": "code",
   "execution_count": 15,
   "metadata": {
    "collapsed": true
   },
   "outputs": [
    {
     "name": "stdout",
     "output_type": "stream",
     "text": [
      "********** Train Set **********\n",
      "                        precision    recall  f1-score   support\n",
      "\n",
      "           Omnichannel       1.00      0.97      0.99       305\n",
      "  Product Availability       0.83      0.97      0.90       326\n",
      "    Product Comparison       0.95      0.91      0.93       638\n",
      "Product Specifications       0.94      0.91      0.92       653\n",
      "     Returns & Refunds       1.00      1.00      1.00       500\n",
      "      Sales/Promotions       0.98      0.98      0.98       238\n",
      "              Shipping       0.99      0.99      0.99       592\n",
      "\n",
      "              accuracy                           0.96      3252\n",
      "             macro avg       0.96      0.96      0.96      3252\n",
      "          weighted avg       0.96      0.96      0.96      3252\n",
      "\n",
      "********** Valid Set **********\n",
      "                        precision    recall  f1-score   support\n",
      "\n",
      "           Omnichannel       1.00      0.97      0.99        76\n",
      "  Product Availability       0.76      0.90      0.83        82\n",
      "    Product Comparison       0.92      0.86      0.89       159\n",
      "Product Specifications       0.88      0.88      0.88       164\n",
      "     Returns & Refunds       0.98      1.00      0.99       125\n",
      "      Sales/Promotions       1.00      0.97      0.98        60\n",
      "              Shipping       0.99      0.98      0.99       148\n",
      "\n",
      "              accuracy                           0.93       814\n",
      "             macro avg       0.93      0.94      0.94       814\n",
      "          weighted avg       0.93      0.93      0.93       814\n",
      "\n"
     ]
    }
   ],
   "source": [
    "# solver = 'saga'\n",
    "LR8 = LogisticRegression(class_weight='balanced',\n",
    "                         multi_class='auto',\n",
    "                         solver='saga',\n",
    "                         penalty='elasticnet',\n",
    "                         l1_ratio=0.5)\n",
    "model_evaluate(LR8)"
   ]
  },
  {
   "cell_type": "code",
   "execution_count": 16,
   "metadata": {
    "collapsed": true
   },
   "outputs": [
    {
     "name": "stderr",
     "output_type": "stream",
     "text": [
      "/Users/zhenglongwu/anaconda3/lib/python3.7/site-packages/sklearn/model_selection/_split.py:1978: FutureWarning: The default value of cv will change from 3 to 5 in version 0.22. Specify it explicitly to silence this warning.\n",
      "  warnings.warn(CV_WARNING, FutureWarning)\n"
     ]
    },
    {
     "name": "stdout",
     "output_type": "stream",
     "text": [
      "********** Train Set **********\n",
      "                        precision    recall  f1-score   support\n",
      "\n",
      "           Omnichannel       1.00      1.00      1.00       305\n",
      "  Product Availability       1.00      0.99      1.00       326\n",
      "    Product Comparison       1.00      1.00      1.00       638\n",
      "Product Specifications       1.00      1.00      1.00       653\n",
      "     Returns & Refunds       1.00      1.00      1.00       500\n",
      "      Sales/Promotions       1.00      1.00      1.00       238\n",
      "              Shipping       1.00      1.00      1.00       592\n",
      "\n",
      "              accuracy                           1.00      3252\n",
      "             macro avg       1.00      1.00      1.00      3252\n",
      "          weighted avg       1.00      1.00      1.00      3252\n",
      "\n",
      "********** Valid Set **********\n",
      "                        precision    recall  f1-score   support\n",
      "\n",
      "           Omnichannel       0.99      1.00      0.99        76\n",
      "  Product Availability       0.88      0.83      0.86        82\n",
      "    Product Comparison       0.92      0.91      0.91       159\n",
      "Product Specifications       0.88      0.93      0.90       164\n",
      "     Returns & Refunds       0.99      0.99      0.99       125\n",
      "      Sales/Promotions       1.00      0.95      0.97        60\n",
      "              Shipping       0.99      0.98      0.98       148\n",
      "\n",
      "              accuracy                           0.94       814\n",
      "             macro avg       0.95      0.94      0.95       814\n",
      "          weighted avg       0.94      0.94      0.94       814\n",
      "\n"
     ]
    }
   ],
   "source": [
    "# LogisticRegressionCV\n",
    "# Logistic regression with built-in cross validation.\n",
    "LR9 = LogisticRegressionCV(multi_class='auto',solver='liblinear',penalty='l1')\n",
    "model_evaluate(LR9)"
   ]
  },
  {
   "cell_type": "code",
   "execution_count": null,
   "metadata": {},
   "outputs": [],
   "source": []
  }
 ],
 "metadata": {
  "kernelspec": {
   "display_name": "Python 3",
   "language": "python",
   "name": "python3"
  },
  "language_info": {
   "codemirror_mode": {
    "name": "ipython",
    "version": 3
   },
   "file_extension": ".py",
   "mimetype": "text/x-python",
   "name": "python",
   "nbconvert_exporter": "python",
   "pygments_lexer": "ipython3",
   "version": "3.7.3"
  }
 },
 "nbformat": 4,
 "nbformat_minor": 2
}
